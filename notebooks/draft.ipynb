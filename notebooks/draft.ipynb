{
 "cells": [
  {
   "cell_type": "code",
   "execution_count": 1,
   "metadata": {},
   "outputs": [],
   "source": [
    "import numpy as np"
   ]
  },
  {
   "cell_type": "code",
   "execution_count": null,
   "metadata": {},
   "outputs": [],
   "source": [
    "320, 340"
   ]
  },
  {
   "cell_type": "code",
   "execution_count": 10,
   "metadata": {},
   "outputs": [
    {
     "data": {
      "text/plain": [
       "8"
      ]
     },
     "execution_count": 10,
     "metadata": {},
     "output_type": "execute_result"
    }
   ],
   "source": [
    "25 // 3"
   ]
  },
  {
   "cell_type": "code",
   "execution_count": 9,
   "metadata": {},
   "outputs": [
    {
     "data": {
      "text/plain": [
       "2"
      ]
     },
     "execution_count": 9,
     "metadata": {},
     "output_type": "execute_result"
    }
   ],
   "source": [
    "20 % 3"
   ]
  },
  {
   "cell_type": "code",
   "execution_count": 2,
   "metadata": {},
   "outputs": [],
   "source": [
    "x = np.arange(10)"
   ]
  },
  {
   "cell_type": "code",
   "execution_count": 3,
   "metadata": {},
   "outputs": [],
   "source": [
    "np.random.shuffle(x[5:])"
   ]
  },
  {
   "cell_type": "code",
   "execution_count": 7,
   "metadata": {},
   "outputs": [
    {
     "data": {
      "text/plain": [
       "True"
      ]
     },
     "execution_count": 7,
     "metadata": {},
     "output_type": "execute_result"
    }
   ],
   "source": [
    "np.array_equal(np.arange(5), np.array([0,1,2,3,4]))"
   ]
  },
  {
   "cell_type": "code",
   "execution_count": 1,
   "metadata": {},
   "outputs": [],
   "source": [
    "from utils.crossval import ParamGridIter"
   ]
  },
  {
   "cell_type": "code",
   "execution_count": 2,
   "metadata": {},
   "outputs": [],
   "source": [
    "pg = ParamGridIter({'n_iters': [100, 1000, 5000], 'boosting/learning_rate': [['gbdt', 0.02], ['rf', 0.01], ['gbdt', 0.005]]})"
   ]
  },
  {
   "cell_type": "code",
   "execution_count": 4,
   "metadata": {},
   "outputs": [
    {
     "data": {
      "text/html": [
       "<div>\n",
       "<style scoped>\n",
       "    .dataframe tbody tr th:only-of-type {\n",
       "        vertical-align: middle;\n",
       "    }\n",
       "\n",
       "    .dataframe tbody tr th {\n",
       "        vertical-align: top;\n",
       "    }\n",
       "\n",
       "    .dataframe thead th {\n",
       "        text-align: right;\n",
       "    }\n",
       "</style>\n",
       "<table border=\"1\" class=\"dataframe\">\n",
       "  <thead>\n",
       "    <tr style=\"text-align: right;\">\n",
       "      <th></th>\n",
       "      <th>n_iters</th>\n",
       "      <th>boosting</th>\n",
       "      <th>learning_rate</th>\n",
       "    </tr>\n",
       "  </thead>\n",
       "  <tbody>\n",
       "    <tr>\n",
       "      <th>0</th>\n",
       "      <td>100</td>\n",
       "      <td>gbdt</td>\n",
       "      <td>0.020</td>\n",
       "    </tr>\n",
       "    <tr>\n",
       "      <th>1</th>\n",
       "      <td>100</td>\n",
       "      <td>rf</td>\n",
       "      <td>0.010</td>\n",
       "    </tr>\n",
       "    <tr>\n",
       "      <th>2</th>\n",
       "      <td>100</td>\n",
       "      <td>gbdt</td>\n",
       "      <td>0.005</td>\n",
       "    </tr>\n",
       "    <tr>\n",
       "      <th>3</th>\n",
       "      <td>1000</td>\n",
       "      <td>gbdt</td>\n",
       "      <td>0.020</td>\n",
       "    </tr>\n",
       "    <tr>\n",
       "      <th>4</th>\n",
       "      <td>1000</td>\n",
       "      <td>rf</td>\n",
       "      <td>0.010</td>\n",
       "    </tr>\n",
       "    <tr>\n",
       "      <th>5</th>\n",
       "      <td>1000</td>\n",
       "      <td>gbdt</td>\n",
       "      <td>0.005</td>\n",
       "    </tr>\n",
       "    <tr>\n",
       "      <th>6</th>\n",
       "      <td>5000</td>\n",
       "      <td>gbdt</td>\n",
       "      <td>0.020</td>\n",
       "    </tr>\n",
       "    <tr>\n",
       "      <th>7</th>\n",
       "      <td>5000</td>\n",
       "      <td>rf</td>\n",
       "      <td>0.010</td>\n",
       "    </tr>\n",
       "    <tr>\n",
       "      <th>8</th>\n",
       "      <td>5000</td>\n",
       "      <td>gbdt</td>\n",
       "      <td>0.005</td>\n",
       "    </tr>\n",
       "  </tbody>\n",
       "</table>\n",
       "</div>"
      ],
      "text/plain": [
       "   n_iters boosting  learning_rate\n",
       "0      100     gbdt          0.020\n",
       "1      100       rf          0.010\n",
       "2      100     gbdt          0.005\n",
       "3     1000     gbdt          0.020\n",
       "4     1000       rf          0.010\n",
       "5     1000     gbdt          0.005\n",
       "6     5000     gbdt          0.020\n",
       "7     5000       rf          0.010\n",
       "8     5000     gbdt          0.005"
      ]
     },
     "execution_count": 4,
     "metadata": {},
     "output_type": "execute_result"
    }
   ],
   "source": [
    "pg.to_dataframe()"
   ]
  },
  {
   "cell_type": "code",
   "execution_count": 1,
   "metadata": {},
   "outputs": [],
   "source": [
    "%load_ext autoreload\n",
    "%aimport tsutils\n",
    "%autoreload 1"
   ]
  },
  {
   "cell_type": "code",
   "execution_count": 30,
   "metadata": {},
   "outputs": [],
   "source": [
    "%aimport tsutils.crossval"
   ]
  },
  {
   "cell_type": "code",
   "execution_count": 31,
   "metadata": {},
   "outputs": [],
   "source": [
    "from tsutils.crossval import ParamGridIter"
   ]
  },
  {
   "cell_type": "code",
   "execution_count": 44,
   "metadata": {},
   "outputs": [],
   "source": [
    "param_grid = {\n",
    "        'feature_fraction/feature_fraction_bynode': [[0.1, 1],],\n",
    "        'data_sample_strategy/bagging_freq/pos_bagging_fraction/neg_bagging_fraction/bagging_fraction': \n",
    "        [\n",
    "            ['bagging',1, 1, 1.0, 1],\n",
    "            ['bagging',2, 1, 0.8, 0.9],\n",
    "            ['bagging',2, 1, 0.6, 1],\n",
    "        ],\n",
    "        'objective': ['binary'],\n",
    "        'boosting': ['gbdt'],\n",
    "        'learning_rate': [0.02, 0.01],\n",
    "}\n",
    "\n",
    "pg = ParamGridIter(param_grid)"
   ]
  },
  {
   "cell_type": "code",
   "execution_count": 50,
   "metadata": {},
   "outputs": [],
   "source": [
    "it = iter(pg)"
   ]
  },
  {
   "cell_type": "code",
   "execution_count": 51,
   "metadata": {},
   "outputs": [
    {
     "data": {
      "text/plain": [
       "{'feature_fraction': 0.1,\n",
       " 'feature_fraction_bynode': 1,\n",
       " 'data_sample_strategy': 'bagging',\n",
       " 'bagging_freq': 1,\n",
       " 'pos_bagging_fraction': 1,\n",
       " 'neg_bagging_fraction': 1.0,\n",
       " 'bagging_fraction': 1,\n",
       " 'objective': 'binary',\n",
       " 'boosting': 'gbdt',\n",
       " 'learning_rate': 0.02}"
      ]
     },
     "execution_count": 51,
     "metadata": {},
     "output_type": "execute_result"
    }
   ],
   "source": [
    "next(it)"
   ]
  },
  {
   "cell_type": "code",
   "execution_count": 43,
   "metadata": {},
   "outputs": [
    {
     "data": {
      "text/plain": [
       "[{'feature_fraction': 0.1,\n",
       "  'feature_fraction_bynode': 1,\n",
       "  'data_sample_strategy': 'bagging',\n",
       "  'bagging_freq': 1,\n",
       "  'pos_bagging_fraction': 1,\n",
       "  'neg_bagging_fraction': 1.0,\n",
       "  'bagging_fraction': 1,\n",
       "  'objective': 'binary',\n",
       "  'boosting': 'gbdt',\n",
       "  'learning_rate': 0.02},\n",
       " {'feature_fraction': 0.1,\n",
       "  'feature_fraction_bynode': 1,\n",
       "  'data_sample_strategy': 'bagging',\n",
       "  'bagging_freq': 1,\n",
       "  'pos_bagging_fraction': 1,\n",
       "  'neg_bagging_fraction': 1.0,\n",
       "  'bagging_fraction': 1,\n",
       "  'objective': 'binary',\n",
       "  'boosting': 'gbdt',\n",
       "  'learning_rate': 0.01},\n",
       " {'feature_fraction': 0.1,\n",
       "  'feature_fraction_bynode': 1,\n",
       "  'data_sample_strategy': 'bagging',\n",
       "  'bagging_freq': 2,\n",
       "  'pos_bagging_fraction': 1,\n",
       "  'neg_bagging_fraction': 0.8,\n",
       "  'bagging_fraction': 0.9,\n",
       "  'objective': 'binary',\n",
       "  'boosting': 'gbdt',\n",
       "  'learning_rate': 0.02},\n",
       " {'feature_fraction': 0.1,\n",
       "  'feature_fraction_bynode': 1,\n",
       "  'data_sample_strategy': 'bagging',\n",
       "  'bagging_freq': 2,\n",
       "  'pos_bagging_fraction': 1,\n",
       "  'neg_bagging_fraction': 0.8,\n",
       "  'bagging_fraction': 0.9,\n",
       "  'objective': 'binary',\n",
       "  'boosting': 'gbdt',\n",
       "  'learning_rate': 0.01},\n",
       " {'feature_fraction': 0.1,\n",
       "  'feature_fraction_bynode': 1,\n",
       "  'data_sample_strategy': 'bagging',\n",
       "  'bagging_freq': 2,\n",
       "  'pos_bagging_fraction': 1,\n",
       "  'neg_bagging_fraction': 0.6,\n",
       "  'bagging_fraction': 1,\n",
       "  'objective': 'binary',\n",
       "  'boosting': 'gbdt',\n",
       "  'learning_rate': 0.02},\n",
       " {'feature_fraction': 0.1,\n",
       "  'feature_fraction_bynode': 1,\n",
       "  'data_sample_strategy': 'bagging',\n",
       "  'bagging_freq': 2,\n",
       "  'pos_bagging_fraction': 1,\n",
       "  'neg_bagging_fraction': 0.6,\n",
       "  'bagging_fraction': 1,\n",
       "  'objective': 'binary',\n",
       "  'boosting': 'gbdt',\n",
       "  'learning_rate': 0.01}]"
      ]
     },
     "execution_count": 43,
     "metadata": {},
     "output_type": "execute_result"
    }
   ],
   "source": [
    "[x for x in pg]"
   ]
  },
  {
   "cell_type": "code",
   "execution_count": 34,
   "metadata": {},
   "outputs": [
    {
     "data": {
      "text/plain": [
       "6"
      ]
     },
     "execution_count": 34,
     "metadata": {},
     "output_type": "execute_result"
    }
   ],
   "source": [
    "len(pg)"
   ]
  },
  {
   "cell_type": "code",
   "execution_count": 35,
   "metadata": {},
   "outputs": [
    {
     "data": {
      "text/plain": [
       "['feature_fraction', 'feature_fraction_bynode', 'objective', 'boosting']"
      ]
     },
     "execution_count": 35,
     "metadata": {},
     "output_type": "execute_result"
    }
   ],
   "source": [
    "pg.get_fixed_params()"
   ]
  },
  {
   "cell_type": "code",
   "execution_count": 38,
   "metadata": {},
   "outputs": [
    {
     "data": {
      "text/html": [
       "<div>\n",
       "<style scoped>\n",
       "    .dataframe tbody tr th:only-of-type {\n",
       "        vertical-align: middle;\n",
       "    }\n",
       "\n",
       "    .dataframe tbody tr th {\n",
       "        vertical-align: top;\n",
       "    }\n",
       "\n",
       "    .dataframe thead th {\n",
       "        text-align: right;\n",
       "    }\n",
       "</style>\n",
       "<table border=\"1\" class=\"dataframe\">\n",
       "  <thead>\n",
       "    <tr style=\"text-align: right;\">\n",
       "      <th></th>\n",
       "      <th>feature_fraction</th>\n",
       "      <th>feature_fraction_bynode</th>\n",
       "      <th>data_sample_strategy</th>\n",
       "      <th>bagging_freq</th>\n",
       "      <th>pos_bagging_fraction</th>\n",
       "      <th>neg_bagging_fraction</th>\n",
       "      <th>bagging_fraction</th>\n",
       "      <th>objective</th>\n",
       "      <th>boosting</th>\n",
       "      <th>learning_rate</th>\n",
       "    </tr>\n",
       "  </thead>\n",
       "  <tbody>\n",
       "    <tr>\n",
       "      <th>0</th>\n",
       "      <td>0.1</td>\n",
       "      <td>1</td>\n",
       "      <td>bagging</td>\n",
       "      <td>1</td>\n",
       "      <td>1</td>\n",
       "      <td>1.0</td>\n",
       "      <td>1.0</td>\n",
       "      <td>binary</td>\n",
       "      <td>gbdt</td>\n",
       "      <td>0.02</td>\n",
       "    </tr>\n",
       "    <tr>\n",
       "      <th>1</th>\n",
       "      <td>0.1</td>\n",
       "      <td>1</td>\n",
       "      <td>bagging</td>\n",
       "      <td>1</td>\n",
       "      <td>1</td>\n",
       "      <td>1.0</td>\n",
       "      <td>1.0</td>\n",
       "      <td>binary</td>\n",
       "      <td>gbdt</td>\n",
       "      <td>0.01</td>\n",
       "    </tr>\n",
       "    <tr>\n",
       "      <th>2</th>\n",
       "      <td>0.1</td>\n",
       "      <td>1</td>\n",
       "      <td>bagging</td>\n",
       "      <td>2</td>\n",
       "      <td>1</td>\n",
       "      <td>0.8</td>\n",
       "      <td>0.9</td>\n",
       "      <td>binary</td>\n",
       "      <td>gbdt</td>\n",
       "      <td>0.02</td>\n",
       "    </tr>\n",
       "    <tr>\n",
       "      <th>3</th>\n",
       "      <td>0.1</td>\n",
       "      <td>1</td>\n",
       "      <td>bagging</td>\n",
       "      <td>2</td>\n",
       "      <td>1</td>\n",
       "      <td>0.8</td>\n",
       "      <td>0.9</td>\n",
       "      <td>binary</td>\n",
       "      <td>gbdt</td>\n",
       "      <td>0.01</td>\n",
       "    </tr>\n",
       "    <tr>\n",
       "      <th>4</th>\n",
       "      <td>0.1</td>\n",
       "      <td>1</td>\n",
       "      <td>bagging</td>\n",
       "      <td>2</td>\n",
       "      <td>1</td>\n",
       "      <td>0.6</td>\n",
       "      <td>1.0</td>\n",
       "      <td>binary</td>\n",
       "      <td>gbdt</td>\n",
       "      <td>0.02</td>\n",
       "    </tr>\n",
       "    <tr>\n",
       "      <th>5</th>\n",
       "      <td>0.1</td>\n",
       "      <td>1</td>\n",
       "      <td>bagging</td>\n",
       "      <td>2</td>\n",
       "      <td>1</td>\n",
       "      <td>0.6</td>\n",
       "      <td>1.0</td>\n",
       "      <td>binary</td>\n",
       "      <td>gbdt</td>\n",
       "      <td>0.01</td>\n",
       "    </tr>\n",
       "  </tbody>\n",
       "</table>\n",
       "</div>"
      ],
      "text/plain": [
       "   feature_fraction  feature_fraction_bynode  ... boosting  learning_rate\n",
       "0               0.1                        1  ...     gbdt           0.02\n",
       "1               0.1                        1  ...     gbdt           0.01\n",
       "2               0.1                        1  ...     gbdt           0.02\n",
       "3               0.1                        1  ...     gbdt           0.01\n",
       "4               0.1                        1  ...     gbdt           0.02\n",
       "5               0.1                        1  ...     gbdt           0.01\n",
       "\n",
       "[6 rows x 10 columns]"
      ]
     },
     "execution_count": 38,
     "metadata": {},
     "output_type": "execute_result"
    }
   ],
   "source": [
    "pg.to_dataframe()"
   ]
  },
  {
   "cell_type": "code",
   "execution_count": 52,
   "metadata": {},
   "outputs": [],
   "source": [
    "from tsutils.crossval import StratifiedNestedKFold"
   ]
  },
  {
   "cell_type": "code",
   "execution_count": 53,
   "metadata": {},
   "outputs": [],
   "source": [
    "cv = StratifiedNestedKFold(1, 6, 5, -1, -1, False)"
   ]
  },
  {
   "cell_type": "code",
   "execution_count": null,
   "metadata": {},
   "outputs": [],
   "source": []
  }
 ],
 "metadata": {
  "kernelspec": {
   "display_name": "energy-ts",
   "language": "python",
   "name": "python3"
  },
  "language_info": {
   "codemirror_mode": {
    "name": "ipython",
    "version": 3
   },
   "file_extension": ".py",
   "mimetype": "text/x-python",
   "name": "python",
   "nbconvert_exporter": "python",
   "pygments_lexer": "ipython3",
   "version": "3.10.12"
  }
 },
 "nbformat": 4,
 "nbformat_minor": 2
}
